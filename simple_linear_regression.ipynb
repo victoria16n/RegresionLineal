{
 "cells": [
  {
   "cell_type": "markdown",
   "id": "86bed3e4",
   "metadata": {},
   "source": [
    "# Linear Regression"
   ]
  },
  {
   "cell_type": "code",
   "execution_count": 1,
   "id": "b5718822",
   "metadata": {},
   "outputs": [],
   "source": [
    "# Import the necessary modules\n",
    "%matplotlib notebook\n",
    "%matplotlib inline\n",
    "import matplotlib.pyplot as plt\n",
    "from scipy import stats\n",
    "import numpy as np"
   ]
  },
  {
   "cell_type": "code",
   "execution_count": 2,
   "id": "11201beb",
   "metadata": {},
   "outputs": [
    {
     "name": "stdout",
     "output_type": "stream",
     "text": [
      "[0.13578009 0.43232932 0.51472447 0.15815462 0.14282654 0.99953173\n",
      " 0.77244137 0.23156465 0.36186891 0.04546291 0.39491043 0.33419526\n",
      " 0.59550617 0.05164021 0.82569485 0.34328547 0.34142207 0.81491863\n",
      " 0.53507089 0.00572241 0.1438534  0.13545758 0.55939683 0.15054721\n",
      " 0.56078724 0.64874405 0.04047981 0.30302428 0.78233301 0.07951308\n",
      " 0.13289808 0.59007615 0.6476858  0.2189592  0.24870053]\n",
      "[1.17602754 0.85449602 1.1102933  0.45081339 0.53295741 2.2096856\n",
      " 2.27707579 0.90977752 1.31792218 1.02290798 0.95845107 0.92044243\n",
      " 1.73715267 0.79999446 1.57578878 1.02075578 0.98626804 2.40944358\n",
      " 1.28383456 0.06101007 0.77603827 0.6498208  1.94495274 0.30993467\n",
      " 1.45867814 1.62807929 0.58376291 1.04143343 1.90746435 0.73008168\n",
      " 0.92968163 1.30545649 1.85823384 0.58422961 0.7670839 ]\n"
     ]
    }
   ],
   "source": [
    "# random generator\n",
    "rng = np.random.default_rng()\n",
    "\n",
    "# generate random data\n",
    "x = rng.random(35)\n",
    "print(x)\n",
    "y = 1.9*x + rng.random(35)\n",
    "print(y)"
   ]
  },
  {
   "cell_type": "code",
   "execution_count": 3,
   "id": "267e0cfd",
   "metadata": {},
   "outputs": [],
   "source": [
    "# Calculate a linear least-squares regression for two sets of data\n",
    "slope, intercept, r, p, std_err = stats.linregress(x, y)"
   ]
  },
  {
   "cell_type": "code",
   "execution_count": 4,
   "id": "6f42bd23",
   "metadata": {},
   "outputs": [],
   "source": [
    "# Helper function that uses the calculated slope and intercept to return a new value\n",
    "def fitted_value(x):\n",
    "    return slope * x + intercept"
   ]
  },
  {
   "cell_type": "code",
   "execution_count": 5,
   "id": "3ae4e48e",
   "metadata": {},
   "outputs": [],
   "source": [
    "# Calculate the fitted values for the y-axis using the helper function\n",
    "new_values = list(map(fitted_value, x))"
   ]
  },
  {
   "cell_type": "code",
   "execution_count": 6,
   "id": "382e8f8c",
   "metadata": {},
   "outputs": [
    {
     "data": {
      "text/plain": [
       "<matplotlib.legend.Legend at 0x1ba33f90070>"
      ]
     },
     "execution_count": 6,
     "metadata": {},
     "output_type": "execute_result"
    },
    {
     "data": {
      "image/png": "[encoded data removed]",
      "text/plain": [
       "<Figure size 432x288 with 1 Axes>"
      ]
     },
     "metadata": {
      "needs_background": "light"
     },
     "output_type": "display_data"
    }
   ],
   "source": [
    "# Draw the original scatter plot\n",
    "plt.plot(x, y, '*', label='original data')\n",
    "# Draw the line or linear regression\n",
    "plt.plot(x, new_values, 'pink', label='fitted line')\n",
    "plt.legend()"
   ]
  }
 ],
 "metadata": {
  "kernelspec": {
   "display_name": "Python 3 (ipykernel)",
   "language": "python",
   "name": "python3"
  },
  "language_info": {
   "codemirror_mode": {
    "name": "ipython",
    "version": 3
   },
   "file_extension": ".py",
   "mimetype": "text/x-python",
   "name": "python",
   "nbconvert_exporter": "python",
   "pygments_lexer": "ipython3",
   "version": "3.9.7"
  }
 },
 "nbformat": 4,
 "nbformat_minor": 5
}
