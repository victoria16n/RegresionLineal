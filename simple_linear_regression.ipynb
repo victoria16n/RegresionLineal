{
 "cells": [
  {
   "cell_type": "markdown",
   "id": "86bed3e4",
   "metadata": {},
   "source": [
    "# Linear Regression"
   ]
  },
  {
   "cell_type": "code",
   "execution_count": 7,
   "id": "b5718822",
   "metadata": {},
   "outputs": [],
   "source": [
    "# Import the necessary modules\n",
    "%matplotlib notebook\n",
    "%matplotlib inline\n",
    "import matplotlib.pyplot as plt\n",
    "from scipy import stats\n",
    "import numpy as np"
   ]
  },
  {
   "cell_type": "code",
   "execution_count": 8,
   "id": "11201beb",
   "metadata": {},
   "outputs": [
    {
     "name": "stdout",
     "output_type": "stream",
     "text": [
      "[0.56326986 0.87860557 0.12291015 0.81969919 0.97916628 0.17032101\n",
      " 0.37023708 0.76243554 0.87027649 0.55179685 0.51038481 0.36145848\n",
      " 0.84783983 0.0159846  0.35135125 0.81826108 0.78128162 0.04881494\n",
      " 0.84495234 0.62557873 0.36357386 0.18236874 0.0599305  0.16814617\n",
      " 0.70127967 0.65367424 0.88837803 0.17429193 0.44827646 0.05516863\n",
      " 0.35048104 0.83190323 0.74990391 0.69678743 0.81486161]\n",
      "[1.13944135 2.0998759  1.0637693  1.56489064 2.50929056 1.14809175\n",
      " 0.84057225 2.15464957 2.24490408 1.20502482 1.78242013 1.0664752\n",
      " 1.65723132 0.1543703  0.9545215  1.90861513 1.94960115 0.13943985\n",
      " 2.07422664 1.62323699 1.04688865 1.28181296 1.08222986 0.82776859\n",
      " 1.62533748 1.83169441 2.50849517 0.7046607  1.33888849 0.58627003\n",
      " 1.1241922  2.31089858 2.29589953 1.539083   2.41139097]\n"
     ]
    }
   ],
   "source": [
    "# random generator\n",
    "rng = np.random.default_rng()\n",
    "\n",
    "# generate random data\n",
    "x = rng.random(35)\n",
    "print(x)\n",
    "y = 1.9*x + rng.random(35)\n",
    "print(y)"
   ]
  },
  {
   "cell_type": "code",
   "execution_count": 9,
   "id": "267e0cfd",
   "metadata": {},
   "outputs": [],
   "source": [
    "# Calculate a linear least-squares regression for two sets of data\n",
    "slope, intercept, r, p, std_err = stats.linregress(x, y)"
   ]
  },
  {
   "cell_type": "code",
   "execution_count": 10,
   "id": "6f42bd23",
   "metadata": {},
   "outputs": [],
   "source": [
    "# Helper function that uses the calculated slope and intercept to return a new value\n",
    "def fitted_value(x):\n",
    "    return slope * x + intercept"
   ]
  },
  {
   "cell_type": "code",
   "execution_count": 11,
   "id": "3ae4e48e",
   "metadata": {},
   "outputs": [],
   "source": [
    "# Calculate the fitted values for the y-axis using the helper function\n",
    "new_values = list(map(fitted_value, x))"
   ]
  },
  {
   "cell_type": "code",
   "execution_count": 12,
   "id": "382e8f8c",
   "metadata": {},
   "outputs": [
    {
     "data": {
      "text/plain": [
       "<matplotlib.legend.Legend at 0x183a3390ee0>"
      ]
     },
     "execution_count": 12,
     "metadata": {},
     "output_type": "execute_result"
    },
    {
     "data": {
      "image/png": "[encoded data removed]",
      "text/plain": [
       "<Figure size 432x288 with 1 Axes>"
      ]
     },
     "metadata": {
      "needs_background": "light"
     },
     "output_type": "display_data"
    }
   ],
   "source": [
    "# Draw the original scatter plot\n",
    "plt.plot(x, y, 'o', label='original data')\n",
    "# Draw the line or linear regression\n",
    "plt.plot(x, new_values, 'r', label='fitted line')\n",
    "plt.legend()"
   ]
  },
  {
   "cell_type": "code",
   "execution_count": null,
   "id": "3300849b",
   "metadata": {},
   "outputs": [],
   "source": []
  },
  {
   "cell_type": "code",
   "execution_count": null,
   "id": "1c6014d6",
   "metadata": {},
   "outputs": [],
   "source": []
  }
 ],
 "metadata": {
  "kernelspec": {
   "display_name": "Python 3 (ipykernel)",
   "language": "python",
   "name": "python3"
  },
  "language_info": {
   "codemirror_mode": {
    "name": "ipython",
    "version": 3
   },
   "file_extension": ".py",
   "mimetype": "text/x-python",
   "name": "python",
   "nbconvert_exporter": "python",
   "pygments_lexer": "ipython3",
   "version": "3.9.7"
  }
 },
 "nbformat": 4,
 "nbformat_minor": 5
}
